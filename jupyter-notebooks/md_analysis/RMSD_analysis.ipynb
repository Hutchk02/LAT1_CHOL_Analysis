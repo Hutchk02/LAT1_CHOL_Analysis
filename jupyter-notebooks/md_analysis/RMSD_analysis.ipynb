{
 "cells": [
  {
   "cell_type": "markdown",
   "id": "9f12360b-c97b-4b69-9509-dd09e5fb9ac1",
   "metadata": {},
   "source": [
    "**RMSD Analyis of MD Simulations**\n",
    "\n",
    "In this notebook, we will perform Root Mean Square Deviation (RMSD) analysis of LAT1's backbone Cα atoms and cholesterol molecules at the CHOL3 binding site. For access to the MD files used in this notebook, please refer to Zenodo (linked in the README file).\n",
    "\n",
    "RMSD is a useful method to estimate how much a structure changes over time. By calculating the RMSD for every frame during the simulation, we can get a holistic view of what is happening during the simulation. It is also a quick method to understand how different entities in the system are moving relative to each other—in this case, the LAT1 protein and a cholesterol molecule.\n",
    "\n",
    "This notebook compares the RMSD for the four replicate systems at the 'CHOL3', cholesterol binding site."
   ]
  },
  {
   "cell_type": "markdown",
   "id": "2dbe6a01-3e2f-4715-8292-caba912b442e",
   "metadata": {},
   "source": [
    "**1. Import Libraries**"
   ]
  },
  {
   "cell_type": "code",
   "execution_count": null,
   "id": "37ad790f-3420-4229-a5d4-ce14c67d4508",
   "metadata": {},
   "outputs": [],
   "source": [
    "# Install the following libraries if you haven't already\n",
    "import MDAnalysis as mda\n",
    "from MDAnalysis.analysis import rms\n",
    "import matplotlib.pyplot as plt\n",
    "import pandas as pd\n",
    "import seaborn as sns\n",
    "import numpy as np\n",
    "\n",
    "%matplotlib inline"
   ]
  },
  {
   "cell_type": "markdown",
   "id": "a9807688-050d-4070-a457-5398736bcc79",
   "metadata": {},
   "source": [
    "**2. Load the MD Systems**"
   ]
  },
  {
   "cell_type": "code",
   "execution_count": null,
   "id": "3c718aaa-d761-4aae-9eb5-621af3c5cf91",
   "metadata": {},
   "outputs": [],
   "source": [
    "# Load the trajectory and topology files for four replicate systems\n",
    "u31 = mda.Universe('../Files/CHOL3/clr3_md1.pdb', '../Files/CHOL3/clr3_md1.xtc')\n",
    "u32 = mda.Universe('../Files/CHOL3/clr3_md2.pdb', '../Files/CHOL3/clr3_md2.xtc')\n",
    "u33 = mda.Universe('../Files/CHOL3/clr3_md3.pdb', '../Files/CHOL3/clr3_md3.xtc')\n",
    "u34 = mda.Universe('../Files/CHOL3/clr3_md4.pdb', '../Files/CHOL3/clr3_md4.xtc')"
   ]
  },
  {
   "cell_type": "markdown",
   "id": "aab5a0b4-2d71-4574-ad9f-9e0efcbce0a7",
   "metadata": {},
   "source": [
    "**3. Define Cholesterol Atoms, Run RMSD and visualize results**"
   ]
  },
  {
   "cell_type": "markdown",
   "id": "190aa8f8-ade9-4dfb-8d63-1ef5587f191f",
   "metadata": {},
   "source": [
    "First let's focus on one sytem first(replicate 1). Let's see how the RMSD of LAT1's backbone Cα atoms and cholesterol molecules align"
   ]
  },
  {
   "cell_type": "code",
   "execution_count": null,
   "id": "df7ae4be-fbbd-45b6-92a1-e0f859c94bba",
   "metadata": {},
   "outputs": [],
   "source": [
    "# Define cholesterol molecule selection\n",
    "clr = 'resid 481' \n",
    "\n",
    "# Calculate RMSD for the backbone and cholesterol in Replicate 1\n",
    "R11 = rms.RMSD(u31, u31, select='backbone', groupselections=[clr], ref_frame=0)\n",
    "R11.run(verbose=True)\n",
    "\n",
    "# Organize RMSD results into a Dataframe\n",
    "df11 = pd.DataFrame(R11.results.rmsd, columns=['Frame', 'Time (ps)', 'Backbone_1', 'CHOL3_1'])\n",
    "df11['Time (ns)'] = df11['Time (ps)'] * 0.001  # Convert to nanoseconds"
   ]
  },
  {
   "cell_type": "code",
   "execution_count": null,
   "id": "503e407e-5053-4edc-9055-57dd858ebc8f",
   "metadata": {},
   "outputs": [],
   "source": [
    "df11.head(3)  # Preview data as a quality check"
   ]
  },
  {
   "cell_type": "code",
   "execution_count": null,
   "id": "c33ce7b2-38a2-4027-a988-e71c6376222c",
   "metadata": {},
   "outputs": [],
   "source": [
    "# Plot RMSD for LAT1 and cholesterol in Replicate 1\n",
    "ax = df11.plot(x='Time (ns)', y=['Backbone_1', 'CHOL3_1'], kind='line')\n",
    "ax.set_ylabel(r'RMSD ($\\AA$)')\n",
    "ax.set_title('RMSD of LAT1 Backbone and Cholesterol - Replicate 1')\n",
    "plt.show()"
   ]
  },
  {
   "cell_type": "markdown",
   "id": "60272be0-4ea4-4b79-8fa7-f13791922599",
   "metadata": {},
   "source": [
    "**While this is great, it is also useful to visualize only the variation of LAT1 alpha carbons or cholesterol, for each replicate**\n",
    "\n",
    "First, let's create a simple funtion to calculate RMSD and organize into a dataframe"
   ]
  },
  {
   "cell_type": "code",
   "execution_count": null,
   "id": "5b7516de-1fc8-4af6-bae4-a241fb177ce1",
   "metadata": {},
   "outputs": [],
   "source": [
    "# Function to calculate RMSD for a system and return a Dataframe\n",
    "def calculate_rmsd(universe, label, ref_frame=0):\n",
    "    \"\"\"Calculates the RMSD of backbone and cholesterol and returns a DataFrame.\"\"\"\n",
    "    rmsd_analysis = rms.RMSD(universe, universe, select='backbone', groupselections=[clr], ref_frame=ref_frame)\n",
    "    rmsd_analysis.run(verbose=True)\n",
    "    \n",
    "    # Organize RMSD results into a Dataframe\n",
    "    df = pd.DataFrame(rmsd_analysis.results.rmsd, columns=['Frame', 'Time (ps)', f'Backbone_{label}', f'CHOL3_{label}'])\n",
    "    df['Time (ns)'] = df['Time (ps)'] * 0.001  # Convert to nanoseconds\n",
    "    return df"
   ]
  },
  {
   "cell_type": "markdown",
   "id": "e7bdcb9a-e52d-44c9-80a2-5fd04b14b10e",
   "metadata": {},
   "source": [
    "Next, we can loop through each replicate system to calculate RMSD values."
   ]
  },
  {
   "cell_type": "code",
   "execution_count": null,
   "id": "2aa062b0-8d40-4c4b-a48d-ad0109c8f20c",
   "metadata": {},
   "outputs": [],
   "source": [
    "# List of Universe objects and their labels\n",
    "universes = [u31, u32, u33, u34]\n",
    "labels = [1, 2, 3, 4]\n",
    "\n",
    "# Dictionary to store the Dataframes\n",
    "rmsd_dfs = {}\n",
    "\n",
    "# Loop over universes and calculate RMSD for each system\n",
    "for i, universe in enumerate(universes):\n",
    "    label = labels[i]\n",
    "    rmsd_dfs[f'df{label}'] = calculate_rmsd(universe, label)"
   ]
  },
  {
   "cell_type": "markdown",
   "id": "50daf73a-995b-44d7-bddb-c6a0bee2becf",
   "metadata": {},
   "source": [
    "Next, this function allows for visualizing the backbone RMSD and cholesterol across all replicates"
   ]
  },
  {
   "cell_type": "code",
   "execution_count": null,
   "id": "df745447-14b8-4ae5-bdc6-e08f0ec652a5",
   "metadata": {},
   "outputs": [],
   "source": [
    "def plot_backbone_rmsd(rmsd_dfs, labels):\n",
    "    plt.figure(figsize=(10, 6))\n",
    "    \n",
    "    for label in labels:\n",
    "        df = rmsd_dfs[f'df{label}']\n",
    "        plt.plot(df['Time (ns)'], df[f'Backbone_{label}'], label=f'Backbone_{label}')\n",
    "    \n",
    "    plt.ylabel(r'RMSD ($\\AA$)')\n",
    "    plt.title('RMSD of LAT1 Backbone Across Replicate Systems')\n",
    "    plt.legend(loc='best')\n",
    "    plt.grid(True)\n",
    "    plt.show()\n",
    "\n",
    "def plot_cholesterol_rmsd(rmsd_dfs, labels):\n",
    "    plt.figure(figsize=(10, 6))\n",
    "    \n",
    "    for label in labels:\n",
    "        df = rmsd_dfs[f'df{label}']\n",
    "        plt.plot(df['Time (ns)'], df[f'CHOL3_{label}'], label=f'Cholesterol_{label}')\n",
    "    \n",
    "    plt.ylabel(r'RMSD ($\\AA$)')\n",
    "    plt.title('RMSD of Cholesterol Across Replicate Systems')\n",
    "    plt.legend(loc='best')\n",
    "    plt.grid(True)\n",
    "    plt.show()"
   ]
  },
  {
   "cell_type": "code",
   "execution_count": null,
   "id": "26a71cb0-c125-448a-b080-b6c5632f3255",
   "metadata": {},
   "outputs": [],
   "source": [
    "# Plot Backbone RMSD for all replicates\n",
    "plot_backbone_rmsd(rmsd_dfs, labels)"
   ]
  },
  {
   "cell_type": "markdown",
   "id": "3c2cbf18-4687-4e6b-955e-f1aa4ee5a58a",
   "metadata": {},
   "source": [
    "Now repeat to view the cholesterol RMSD for each system"
   ]
  },
  {
   "cell_type": "code",
   "execution_count": null,
   "id": "ba3862a0-8388-4079-ac35-1387b12f9cd2",
   "metadata": {},
   "outputs": [],
   "source": [
    "# Plot Cholesterol RMSD for all replicates\n",
    "plot_cholesterol_rmsd(rmsd_dfs, labels)"
   ]
  }
 ],
 "metadata": {
  "kernelspec": {
   "display_name": "Python 3 (ipykernel)",
   "language": "python",
   "name": "python3"
  },
  "language_info": {
   "codemirror_mode": {
    "name": "ipython",
    "version": 3
   },
   "file_extension": ".py",
   "mimetype": "text/x-python",
   "name": "python",
   "nbconvert_exporter": "python",
   "pygments_lexer": "ipython3",
   "version": "3.12.6"
  }
 },
 "nbformat": 4,
 "nbformat_minor": 5
}
